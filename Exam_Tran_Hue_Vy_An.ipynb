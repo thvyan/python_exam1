{
  "nbformat": 4,
  "nbformat_minor": 0,
  "metadata": {
    "colab": {
      "name": "Exam_Tran Hue Vy An.ipynb",
      "provenance": [],
      "collapsed_sections": [],
      "include_colab_link": true
    },
    "kernelspec": {
      "display_name": "Python 3",
      "name": "python3"
    },
    "language_info": {
      "name": "python"
    }
  },
  "cells": [
    {
      "cell_type": "markdown",
      "metadata": {
        "id": "view-in-github",
        "colab_type": "text"
      },
      "source": [
        "<a href=\"https://colab.research.google.com/github/thvyan/python_exam1/blob/main/Exam_Tran_Hue_Vy_An.ipynb\" target=\"_parent\"><img src=\"https://colab.research.google.com/assets/colab-badge.svg\" alt=\"Open In Colab\"/></a>"
      ]
    },
    {
      "cell_type": "markdown",
      "metadata": {
        "id": "15J7iKBIiPCZ"
      },
      "source": [
        "# Excersice 1: Write a program to solve the quadratic equation :  ax2 + bx + c =  0 \n"
      ]
    },
    {
      "cell_type": "code",
      "metadata": {
        "id": "TqxlJO9GiQ6u"
      },
      "source": [
        "#Khi in ra phương trình vô nghiệm thì làm sau chạy lại vòng lập input\n",
        "#Khi nhập số âm, thì lúc hiện lên phương trình thì làm sao bỏ dấu cộng ở trước b\n",
        "\n",
        "import math \n",
        "\n",
        "\n",
        "print(\"Hi, now you can solve the quadratic equation ax2 + bx + c = 0 in the very simple way ever. Please follow me. First, please input an integer a \")\n",
        "a = int(input())\n",
        "\n",
        "while True: \n",
        "    if a == 0: \n",
        "      print(\"Oh no no, so sorry, a is a not zero number, you must input again \")\n",
        "      a = int(input())\n",
        "        \n",
        "    else:\n",
        "      break \n",
        "print(\"Nice, Please input an integer b \")\n",
        "b = int(input())\n",
        "print(\"Perfect, Please input an integer c \")\n",
        "c = int(input())\n",
        "if b > 0 and c > 0:\n",
        "  print(\"Thank you, let me check! Your Quadratic Equation is {}x^2 + {}x + {}  = 0\".format(a, b, c))\n",
        "elif b < 0 and c > 0:\n",
        "  print(\"Thank you, let me check! Your Quadratic Equation is {}x^2  {}x + {}  = 0\".format(a, b, c))\n",
        "elif b > 0 and c < 0:\n",
        "  print(\"Thank you, let me check! Your Quadratic Equation is {}x^2 + {}x  {}  = 0\".format(a, b, c))\n",
        "elif b < 0 and c < 0:\n",
        "  print(\"Thank you, let me check! Your Quadratic Equation is {}x^2  {}x  {}  = 0\".format(a, b, c))\n",
        "\n",
        "\n",
        "discriminant = b*b - 4 * a * c\n",
        "if discriminant < 0:\n",
        "    print(\"Sorry, your Quadratic Equation has no solution. Please reinput\")\n",
        "elif discriminant == 0:\n",
        "    print(\"Your equation has both same of solution x1 = x2 = \", -(b / (2 * a)) )\n",
        "else:\n",
        "    print(\"Your equation has two distinct solutions:\")\n",
        "    print(\"x1 = \", (-(b) + math.sqrt(discriminant))/(2*a) )\n",
        "    print(\"x1 = \", (-(b) - math.sqrt(discriminant))/(2*a) )"
      ],
      "execution_count": null,
      "outputs": []
    },
    {
      "cell_type": "markdown",
      "metadata": {
        "id": "ORmSO1Mntu1V"
      },
      "source": [
        "# Excercise 2 Assign a list\n"
      ]
    },
    {
      "cell_type": "code",
      "metadata": {
        "id": "wCh7VVbkt2go"
      },
      "source": [
        "\n",
        "import pandas as pd\n",
        "from datetime import datetime\n",
        "Date = ['15/5/2021', '30/6/2021', '12/7/2021']\n",
        "\n",
        "\n",
        "data = {'Date': [datetime.strptime(\"15/05/2021\", '%d/%m/%Y'), datetime.strptime(\"30/06/2021\",'%d/%m/%Y'), datetime.strptime(\"12/07/2021\",'%d/%m/%Y')], \n",
        "        'Plan': ['Hiking at weekend', 'Swimming on Monday', 'Visiting museum on Friday']}\n",
        "\n",
        "df = pd.DataFrame(data)\n",
        "print(df)\n",
        "\n",
        "x = df['Action'] = df.Plan.str.split(' ').str[0]\n",
        "df['Time'] = df.Plan.str.split(' ').str[-1]\n",
        "print(df)\n",
        "df['Month'] = pd.DatetimeIndex(df['Date']).month\n",
        "print(df)\n",
        "\n",
        "print(\"Please input your Hobby. It should be in list\" , x.tolist())\n",
        "hobby = input()\n",
        "print(\"Please input your free month\")\n",
        "freemonth = int(input())\n",
        "\n",
        "\n",
        "filtered_df = df[(df['Action'] == hobby) & (df['Month'] == freemonth)]\n",
        "filtered_df.pop('Month')\n",
        "print(filtered_df)\n",
        "\n",
        "\n",
        "\n",
        "\n",
        "\n"
      ],
      "execution_count": null,
      "outputs": []
    },
    {
      "cell_type": "markdown",
      "metadata": {
        "id": "no5IDNq0JQe_"
      },
      "source": [
        "# Excersice 3: Write a chatbot program"
      ]
    },
    {
      "cell_type": "code",
      "metadata": {
        "id": "nkUcWxlNBEiU"
      },
      "source": [
        "print('Welcome! I am a chatbot. I need to ask some of your information to make your profile')\n",
        "print('What is your name ? (Note: Your answer must have \"my name is\")')\n",
        "\n",
        "name = input().lower()\n",
        "find_this_name = \"my name is\"\n",
        "while find_this_name not in name:\n",
        "  print('Sorry you should answer with term \"my name is\", please answer again ')\n",
        " \n",
        "  print('again')\n",
        "  name = input().lower()\n",
        "  find_this_name = \"my name is\"\n",
        "  \n",
        "else:\n",
        "  print('Okie. Noted. Your answer is ',name.split()[-1])\n",
        "  \n",
        "print('What is your birthdate ? (Note: Your answer must have \"my birthdate is\")')\n",
        "birthdate = input().lower()\n",
        "find_this_date = \"my birthdate is\"\n",
        "while find_this_date not in birthdate:\n",
        "  print('Sorry you should answer with term \"my birthdate is\", please answer again ')\n",
        " \n",
        "  print('again')\n",
        "  birthdate = input().lower()\n",
        "  find_this_date = \"my birthdate is\"\n",
        "  \n",
        "else:\n",
        "  print('Okie. Noted. Your answer is ', birthdate)\n",
        "\n",
        "\n",
        "\n",
        "print('What is your gender ? (Note: Your answer must have \"my gender is\")')\n",
        "gender = input().lower()\n",
        "find_this_gender = \"my gender is\"\n",
        "while find_this_gender not in gender:\n",
        "  print('Sorry you should answer with term \"my gender is\", please answer again ')\n",
        " \n",
        "  print('again')\n",
        "  gender = input().lower()\n",
        "  find_this_gender = \"my gender is\"\n",
        "  \n",
        "else:\n",
        "  print('Okie. Noted. Your answer is ', gender)\n",
        "\n",
        "print(\"Thank you for your support. Your profile is complete: 'Name': {}, 'Birthdate': {}, 'Gender': {}\".format(name.split()[-1], birthdate.split()[-1], gender.split()[-1]))\n",
        "\n",
        "\n"
      ],
      "execution_count": null,
      "outputs": []
    },
    {
      "cell_type": "code",
      "metadata": {
        "id": "uiM52uqnDH8s"
      },
      "source": [
        ""
      ],
      "execution_count": null,
      "outputs": []
    }
  ]
}